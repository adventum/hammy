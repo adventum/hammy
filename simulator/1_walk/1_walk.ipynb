{
  "cells": [
    {
      "cell_type": "code",
      "source": [
        "import os\n",
        "import sys\n",
        "from enum import Enum\n",
        "Mode = Enum('Mode', ['NUMPY', 'CUPY', 'CFFI', 'CUDA', 'COMBO'], start=0)\n",
        "MODE = Mode.NUMPY # @param [\"Mode.NUMPY\", \"Mode.CUPY\", \"Mode.CFFI\", \"Mode.CUDA\", \"Mode.COMBO\"] {type:\"raw\"}\n",
        "MINUTES = 1 # @param {type:\"integer\"}\n",
        "\n",
        "if not os.getenv(\"COLAB_RELEASE_TAG\"):\n",
        "  if len(sys.argv) < 1:\n",
        "    print(\"Please specify the number of minutes\")\n",
        "  MODE = Mode.COMBO\n",
        "  MINUTES = int(sys.argv[1])\n",
        "os.environ[\"HAMMY_MODE_LOCAL\"] = MODE.name\n",
        "os.getenv(\"HAMMY_MODE_LOCAL\")\n",
        "def mode_idx(mode=MODE):\n",
        "  match mode:\n",
        "    case Mode.NUMPY | Mode.CUPY:\n",
        "      return 1\n",
        "    case Mode.CFFI:\n",
        "      return 2\n",
        "    case Mode.CUDA:\n",
        "      return 3"
      ],
      "metadata": {
        "id": "gCZBC9lrYeOX"
      },
      "execution_count": 1,
      "outputs": []
    },
    {
      "cell_type": "code",
      "source": [
        "PLT_HIST = \"last\" # @param [\"last\",\"cum\"]\n",
        "if 'Results' in globals():\n",
        "  hist = getattr(RESULTS, PLT_HIST)[mode_idx()]\n",
        "  fig, axs = plt.subplots((N.TARGETS_LEN, N.CHECKPOINTS_LEN))\n",
        "  fig.set_figheight(8)\n",
        "  bins = np.arange(-int(N.T / 4), int(N.T / 4) + 1)\n",
        "  for i in range(max_hist):\n",
        "    axs[i, 0].set_title(f\"Mode {i + 1}\")\n",
        "    axs[i, 0].bar(bins, hist[i,:], align='center', width=.7)"
      ],
      "metadata": {
        "colab": {
          "base_uri": "https://localhost:8080/",
          "height": 211
        },
        "id": "S3jlkcmAQ266",
        "outputId": "8bc6918f-12ff-4ac9-d34e-dd4ecc67e1c2"
      },
      "execution_count": 12,
      "outputs": [
        {
          "output_type": "error",
          "ename": "AttributeError",
          "evalue": "type object 'N' has no attribute 'MAX_M'",
          "traceback": [
            "\u001b[0;31m---------------------------------------------------------------------------\u001b[0m",
            "\u001b[0;31mAttributeError\u001b[0m                            Traceback (most recent call last)",
            "\u001b[0;32m<ipython-input-12-73108e9beaac>\u001b[0m in \u001b[0;36m<cell line: 2>\u001b[0;34m()\u001b[0m\n\u001b[1;32m      2\u001b[0m \u001b[0;32mif\u001b[0m \u001b[0;34m'Results'\u001b[0m \u001b[0;32min\u001b[0m \u001b[0mglobals\u001b[0m\u001b[0;34m(\u001b[0m\u001b[0;34m)\u001b[0m\u001b[0;34m:\u001b[0m\u001b[0;34m\u001b[0m\u001b[0;34m\u001b[0m\u001b[0m\n\u001b[1;32m      3\u001b[0m   \u001b[0mhist\u001b[0m \u001b[0;34m=\u001b[0m \u001b[0mgetattr\u001b[0m\u001b[0;34m(\u001b[0m\u001b[0mRESULTS\u001b[0m\u001b[0;34m,\u001b[0m \u001b[0mPLT_HIST\u001b[0m\u001b[0;34m)\u001b[0m\u001b[0;34m[\u001b[0m\u001b[0mmode_idx\u001b[0m\u001b[0;34m(\u001b[0m\u001b[0;34m)\u001b[0m\u001b[0;34m]\u001b[0m\u001b[0;34m\u001b[0m\u001b[0;34m\u001b[0m\u001b[0m\n\u001b[0;32m----> 4\u001b[0;31m   \u001b[0mmax_hist\u001b[0m \u001b[0;34m=\u001b[0m \u001b[0mmin\u001b[0m\u001b[0;34m(\u001b[0m\u001b[0mnp\u001b[0m\u001b[0;34m.\u001b[0m\u001b[0mmax\u001b[0m\u001b[0;34m(\u001b[0m\u001b[0mnp\u001b[0m\u001b[0;34m.\u001b[0m\u001b[0mnonzero\u001b[0m\u001b[0;34m(\u001b[0m\u001b[0mnp\u001b[0m\u001b[0;34m.\u001b[0m\u001b[0mmax\u001b[0m\u001b[0;34m(\u001b[0m\u001b[0mhist\u001b[0m\u001b[0;34m,\u001b[0m \u001b[0maxis\u001b[0m\u001b[0;34m=\u001b[0m\u001b[0;36m1\u001b[0m\u001b[0;34m)\u001b[0m\u001b[0;34m)\u001b[0m\u001b[0;34m)\u001b[0m \u001b[0;34m+\u001b[0m \u001b[0;36m1\u001b[0m\u001b[0;34m,\u001b[0m \u001b[0mN\u001b[0m\u001b[0;34m.\u001b[0m\u001b[0mMAX_M\u001b[0m\u001b[0;34m)\u001b[0m\u001b[0;34m\u001b[0m\u001b[0;34m\u001b[0m\u001b[0m\n\u001b[0m\u001b[1;32m      5\u001b[0m   \u001b[0mfig\u001b[0m\u001b[0;34m,\u001b[0m \u001b[0maxs\u001b[0m \u001b[0;34m=\u001b[0m \u001b[0mplt\u001b[0m\u001b[0;34m.\u001b[0m\u001b[0msubplots\u001b[0m\u001b[0;34m(\u001b[0m\u001b[0mmax_hist\u001b[0m\u001b[0;34m,\u001b[0m \u001b[0msqueeze\u001b[0m\u001b[0;34m=\u001b[0m\u001b[0;32mFalse\u001b[0m\u001b[0;34m)\u001b[0m\u001b[0;34m\u001b[0m\u001b[0;34m\u001b[0m\u001b[0m\n\u001b[1;32m      6\u001b[0m   \u001b[0mfig\u001b[0m\u001b[0;34m.\u001b[0m\u001b[0mset_figheight\u001b[0m\u001b[0;34m(\u001b[0m\u001b[0;36m8\u001b[0m\u001b[0;34m)\u001b[0m\u001b[0;34m\u001b[0m\u001b[0;34m\u001b[0m\u001b[0m\n",
            "\u001b[0;31mAttributeError\u001b[0m: type object 'N' has no attribute 'MAX_M'"
          ]
        }
      ]
    },
    {
      "cell_type": "code",
      "execution_count": 2,
      "metadata": {
        "id": "-clu7abYzHO8",
        "colab": {
          "base_uri": "https://localhost:8080/"
        },
        "outputId": "a5aa78e8-deb6-4966-f424-bca1b48fb459"
      },
      "outputs": [
        {
          "output_type": "stream",
          "name": "stdout",
          "text": [
            "cupy was not imported\n"
          ]
        }
      ],
      "source": [
        "%reload_ext autoreload\n",
        "%autoreload 1\n",
        "import io\n",
        "import datetime\n",
        "from dataclasses import dataclass\n",
        "from collections import namedtuple\n",
        "import pickle\n",
        "import numpy as np\n",
        "try:\n",
        "  import matplotlib.pyplot as plt\n",
        "except ImportError:\n",
        "  print(\"matplotlib was not imported\")\n",
        "import psutil\n",
        "from multiprocessing import Pool\n",
        "from cffi import FFI\n",
        "from pathlib import Path\n",
        "try:\n",
        "  import cupy as cp\n",
        "except ImportError:\n",
        "  print(\"cupy was not imported\")\n",
        "  cp = False\n",
        "try:\n",
        "  from google.colab import userdata as secrets\n",
        "except ImportError:\n",
        "  import configparser\n",
        "  config = configparser.ConfigParser()\n",
        "  config.read(\".s3cfg\")\n",
        "  secrets = config[\"default\"]"
      ]
    },
    {
      "cell_type": "code",
      "source": [
        "import locale\n",
        "locale.getpreferredencoding = lambda: \"UTF-8\"\n",
        "%pip install -q boto3 blosc\n",
        "import boto3\n",
        "import blosc\n",
        "BOTO_CLIENT = boto3.session.Session(\n",
        "    aws_access_key_id=secrets.get('access_key'),\n",
        "    aws_secret_access_key=secrets.get('secret_key')\n",
        "    ).client(\n",
        "        service_name='s3',\n",
        "        endpoint_url='https://storage.yandexcloud.net',\n",
        "        region_name='ru-central1')"
      ],
      "metadata": {
        "id": "MQ1PLbuepkm4"
      },
      "execution_count": 3,
      "outputs": []
    },
    {
      "cell_type": "code",
      "source": [
        "TrajectoryStat = namedtuple('TrajectoryStat', 'is_valid position width_in_steps')\n",
        "\n",
        "class N:\n",
        "  TAG = \"walk\";\n",
        "  EXPERIMENT_NUMBER = 1;\n",
        "  IMPLEMENTATION_NUMBER = 1;\n",
        "  MODES = 4 # Total + Numpy + Cupy, CFFI, CUDA\n",
        "  T = 1000 # Number of steps in a single random walk\n",
        "  CHECKPOINTS = [100, 200, 300, 400, 500, 600, 700, 800, 900, T]\n",
        "  CHECKPOINTS_LEN = len(CHECKPOINTS)\n",
        "  TARGETS = [0, 1, 2, 5, 10]\n",
        "  TARGETS_LEN = len(TARGETS)\n",
        "  BINS_TUPLE = (-T // 20, T // 20 + 1)\n",
        "  BINS_LEN = BINS_TUPLE[1] - BINS_TUPLE[0]\n",
        "  CUDA_MEM = cp.cuda.runtime.getDeviceProperties(0)['totalGlobalMem'] if cp else 0 # Global GPU memory\n",
        "  CORES = psutil.cpu_count(logical=False)\n",
        "  RAM = psutil.virtual_memory().total # Total CPU memory\n",
        "  RBPM = 7_250_000_000 # Random bits per minute\n",
        "  MRBPM = RBPM // 1_000_000 # Millions of Random bits per minute\n",
        "  ALGO_BOOST = T / 64 / CHECKPOINTS_LEN # instead of simulating T steps we generate 64-bit binomial distribution for each checkpoint\n",
        "  CUPY_BOOST = 12.\n",
        "  CUDA_BOOST = 700.0\n",
        "  CFFI_BOOST = .1\n",
        "  BOTO_BUCKET = \"hammy\"\n",
        "  BOTO_FILE_PREFIX = filename = f\"{EXPERIMENT_NUMBER}_{TAG}/{EXPERIMENT_NUMBER}_{TAG}_{IMPLEMENTATION_NUMBER}_\"\n",
        "\n",
        "if 'Results' not in globals():\n",
        "  @dataclass\n",
        "  class Results:\n",
        "    last = np.zeros((N.MODES, N.TARGETS_LEN, N.CHECKPOINTS_LEN, N.BINS_LEN), dtype=np.int64)\n",
        "    cum = np.zeros_like(last)\n",
        "    MRBPM_last = np.zeros((N.MODES), dtype=np.int64)\n",
        "    MRBPM_cum = np.zeros_like(MRBPM_last)\n",
        "    trajectory_is_valid = np.ndarray((N.MODES, N.TARGETS_LEN, N.CHECKPOINTS_LEN), dtype=np.bool_)\n",
        "    trajectory_position = np.ndarray((N.MODES, N.TARGETS_LEN, N.CHECKPOINTS_LEN), dtype=np.float32)\n",
        "    trajectory_width_in_steps = np.ndarray((N.MODES, N.TARGETS_LEN, N.CHECKPOINTS_LEN), dtype=np.int16)\n",
        "\n",
        "if not 'OLD_RESULTS' in globals():\n",
        "  last_results = next(iter(sorted((x[\"Key\"] for x in BOTO_CLIENT.list_objects_v2(Bucket=N.BOTO_BUCKET, Prefix=N.BOTO_FILE_PREFIX).get('Contents', [])),\n",
        "      reverse=True)), None)\n",
        "  if last_results:\n",
        "    bits = io.BytesIO()\n",
        "    BOTO_CLIENT.download_fileobj(N.BOTO_BUCKET, last_results, bits)\n",
        "    bits.seek(0)\n",
        "    OLD_RESULTS = pickle.loads(blosc.decompress(bits.read()))\n",
        "if not 'OLD_RESULTS' in globals():\n",
        "  OLD_RESULTS = Results()\n",
        "if not 'RESULTS' in globals():\n",
        "  RESULTS = OLD_RESULTS"
      ],
      "metadata": {
        "id": "l1nQ8mBl2Hwh"
      },
      "execution_count": 8,
      "outputs": []
    },
    {
      "cell_type": "code",
      "execution_count": 6,
      "metadata": {
        "id": "eBS0v3cY-e3A"
      },
      "outputs": [],
      "source": [
        "%%bash\n",
        "if [ \"$HAMMY_MODE_LOCAL\" == \"CFFI\" ] || [ \"$HAMMY_MODE_LOCAL\" == \"COMBO\" ]; then\n",
        "  echo \"Downloading PCG library\"\n",
        "  wget -q https://www.pcg-random.org/downloads/pcg-c-basic-0.9.zip\n",
        "  unzip -q -p pcg-c-basic-0.9.zip pcg-c-basic-0.9/pcg_basic.c > pcg_basic.c\n",
        "  unzip -q -p pcg-c-basic-0.9.zip pcg-c-basic-0.9/pcg_basic.h > pcg_basic.h\n",
        "fi"
      ]
    },
    {
      "cell_type": "code",
      "execution_count": 9,
      "metadata": {
        "id": "5DKGuikiDMjx",
        "colab": {
          "base_uri": "https://localhost:8080/"
        },
        "outputId": "bd54db61-45b6-4f68-9c41-88d81d073eb9"
      },
      "outputs": [
        {
          "output_type": "stream",
          "name": "stdout",
          "text": [
            "13609431040\n",
            "0: making 1 loops, 11328125 ensembles each, loops_float is 0.42\n"
          ]
        }
      ],
      "source": [
        "ncp = np if MODE == Mode.NUMPY else cp\n",
        "\n",
        "if MODE in (Mode.NUMPY, Mode.CUPY):\n",
        "  bins = ncp.hstack([ncp.arange(*N.BINS_TUPLE), N.BINS_LEN // 2 + 1 - .1])\n",
        "  hist = ncp.zeros(RESULTS.last.shape[1:], dtype=np.int64)\n",
        "  mem = N.CUDA_MEM if MODE == Mode.CUPY else N.RAM\n",
        "  width = int(mem / N.CHECKPOINTS_LEN / 20 / (30 if MODE == Mode.CUPY else 2.5))\n",
        "  print(N.RAM)\n",
        "  loops_float = MINUTES * N.ALGO_BOOST * N.RBPM / (width * N.T) * (N.CUPY_BOOST if MODE == Mode.CUPY else 1)\n",
        "  if loops_float < 1:\n",
        "    width = int(width * loops_float)\n",
        "    loops = 1\n",
        "  else:\n",
        "    loops = round(loops_float)\n",
        "  print(f\"{MODE.value}: making {loops} loops, {width} ensembles each, loops_float is {loops_float:.2f}\")\n",
        "  for _ in range(loops):\n",
        "    data = None\n",
        "    modes = None\n",
        "    rng = ncp.random.default_rng()\n",
        "    diffs = np.diff(N.CHECKPOINTS, prepend=0).tolist()\n",
        "    steps = rng.binomial(ncp.tile(diffs, (width, 1)), .75)\n",
        "    data = 2 * rng.binomial(steps, .5) - steps\n",
        "    data = np.cumsum(data, axis=-1)\n",
        "    for target_idx, target in enumerate(N.TARGETS):\n",
        "      if target != 0:\n",
        "        data[data[:, -1] == -target, :] *= -1\n",
        "      for c in range(N.CHECKPOINTS_LEN):\n",
        "        hist[target_idx, c, :] += ncp.histogram(data[data[:, -1] == target, c], bins=bins)[0]\n",
        "  RESULTS.last[mode_idx()] += hist.get() if MODE == Mode.CUPY else hist\n",
        "  RESULTS.MRBPM_last[mode_idx()] += MINUTES * N.MRBPM * (N.CUPY_BOOST if MODE == Mode.CUPY else 1)"
      ]
    },
    {
      "cell_type": "code",
      "source": [
        "def getDefines(loops):\n",
        "  return f\"\"\"\n",
        "#define T {N.T}\n",
        "#define LOOPS { loops }\n",
        "int TARGETS[] = {{{\",\".join([str(x) for x in N.TARGETS])}}};\n",
        "#define TARGETS_LEN { N.TARGETS_LEN }\n",
        "int CHECKPOINTS[] = {{{\",\".join([str(x) for x in N.CHECKPOINTS])}}};\n",
        "#define CHECKPOINTS_LEN { N.CHECKPOINTS_LEN }\n",
        "#define BINS_MIN { N.BINS_TUPLE[0] }\n",
        "#define BINS_MAX { N.BINS_TUPLE[1] - 1 }\n",
        "#define BINS_LEN { N.BINS_LEN }\n",
        "#define STATIC_ASSERT(COND,MSG) typedef char static_assertion_##MSG[(COND)?1:-1]\n",
        "STATIC_ASSERT(BINS_LEN == BINS_MAX - BINS_MIN + 1, bins_len_does_not_match);\n",
        "\"\"\"\n",
        "\n",
        "CODE = \"\"\"\n",
        "#define TID (threadIdx.x + blockIdx.x * blockDim.x)\n",
        "#define TID_LOCAL threadIdx.x\n",
        "#define ZERO(arr, type, aligned) for (int _i = 0; _i + aligned <= sizeof(arr) / sizeof(type) / 32; ++_i) { \\\n",
        "  if (aligned || (_i * 32 + TID_LOCAL < sizeof(arr) / sizeof(type))) { \\\n",
        "    ((type *) arr)[_i * 32 + TID_LOCAL] = 0; \\\n",
        "  } \\\n",
        "}\n",
        "__EXTERN __global__ void run(const unsigned long long seed,  unsigned long long* out) {\n",
        "  __shared__ int positions[CHECKPOINTS_LEN][32];\n",
        "  __shared__ unsigned long long counts [32][TARGETS_LEN][CHECKPOINTS_LEN][BINS_LEN];\n",
        "  curandStateXORWOW_t state _32;\n",
        "  unsigned int rnd _32;\n",
        "  int rnd_left _32;\n",
        "  __WARP_INIT\n",
        "  curand_init(seed, TID, 0, &state _);\n",
        "  rnd_left _ = 0;\n",
        "  ZERO(counts, unsigned long long, 1)\n",
        "  __WARP_END\n",
        "  for(int _loop = 0; _loop < LOOPS; ++_loop) {\n",
        "    __WARP_INIT\n",
        "    ZERO(positions, unsigned int, 1)\n",
        "    int checkpoint = 0;\n",
        "    int current_checkpoint_idx = 0;\n",
        "    for (int k = 0; k < T; ++k) {\n",
        "      if (rnd_left _ == 0) {\n",
        "        rnd _ = curand(&state _);\n",
        "        rnd_left _ = 32;\n",
        "      }\n",
        "      checkpoint += (rnd _ & 1) == 0 ? -1 : 1;\n",
        "      rnd _ >>= 1;\n",
        "      --rnd_left _;\n",
        "      if (k + 1 == CHECKPOINTS[current_checkpoint_idx]) {\n",
        "        positions[current_checkpoint_idx] _ = (checkpoint / 2);\n",
        "        ++current_checkpoint_idx;\n",
        "      }\n",
        "    }\n",
        "    int target_idx = -1;\n",
        "    for (int i = 0; i < TARGETS_LEN; ++i) {\n",
        "      if (checkpoint / 2 == TARGETS[i]) {\n",
        "        target_idx = i;\n",
        "        break;\n",
        "      }\n",
        "    }\n",
        "    if (target_idx >= 0) {\n",
        "      for (int i = 0; i < CHECKPOINTS_LEN; ++i) {\n",
        "        int x = positions[i][TID_LOCAL];\n",
        "        if (x >= BINS_MIN && x <= BINS_MAX) {\n",
        "            ++counts[TID_LOCAL][target_idx][i][x - BINS_MIN];\n",
        "        }\n",
        "      }\n",
        "    }\n",
        "    __WARP_END\n",
        "  }\n",
        "  __WARP_INIT\n",
        "  for  (int i = 1; i < 32; ++i) {\n",
        "    for (int j = 0; j <= sizeof(*counts) / sizeof(****counts) / 32; j++) {\n",
        "      int idx = j * 32 + TID_LOCAL;\n",
        "      if (j * 32 + TID_LOCAL < sizeof(*counts) / sizeof(***counts)){\n",
        "        ((int *) counts[0])[j * 32 + TID_LOCAL] += ((int *) counts[i])[j * 32 + TID_LOCAL];\n",
        "      }\n",
        "    }\n",
        "  }\n",
        "  __SYNCTHREADS\n",
        "  for (int i = 0; i <= sizeof(*counts) / sizeof(****counts) / 32; ++i) {\n",
        "    if (i * 32 + TID_LOCAL < sizeof(*counts) / sizeof(****counts)) {\n",
        "      out[i * 32 + TID_LOCAL] = ((long long *) counts[0])[i * 32 + TID_LOCAL];\n",
        "    }\n",
        "  }\n",
        "  __WARP_END\n",
        "}\"\"\" + \"\\n\""
      ],
      "metadata": {
        "id": "wuE1oBn2f8wb"
      },
      "execution_count": null,
      "outputs": []
    },
    {
      "cell_type": "code",
      "execution_count": null,
      "metadata": {
        "id": "nblmUdQ-8JWs",
        "colab": {
          "base_uri": "https://localhost:8080/"
        },
        "outputId": "7e4591ff-78ed-44e7-bc22-7bc59f1c89e4"
      },
      "outputs": [
        {
          "output_type": "stream",
          "name": "stderr",
          "text": [
            "INFO:root:running build_ext\n"
          ]
        },
        {
          "output_type": "stream",
          "name": "stdout",
          "text": [
            "generating ./hammy_cpu_kernel.c\n",
            "the current directory is '/content'\n"
          ]
        },
        {
          "output_type": "stream",
          "name": "stderr",
          "text": [
            "INFO:root:building 'hammy_cpu_kernel' extension\n",
            "INFO:root:x86_64-linux-gnu-gcc -Wno-unused-result -Wsign-compare -DNDEBUG -g -fwrapv -O2 -Wall -g -fstack-protector-strong -Wformat -Werror=format-security -g -fwrapv -O2 -fPIC -I/usr/include/python3.10 -c hammy_cpu_kernel.c -o ./hammy_cpu_kernel.o\n",
            "INFO:root:x86_64-linux-gnu-gcc -Wno-unused-result -Wsign-compare -DNDEBUG -g -fwrapv -O2 -Wall -g -fstack-protector-strong -Wformat -Werror=format-security -g -fwrapv -O2 -fPIC -I/usr/include/python3.10 -c pcg_basic.c -o ./pcg_basic.o\n",
            "INFO:root:x86_64-linux-gnu-gcc -shared -Wl,-O1 -Wl,-Bsymbolic-functions -Wl,-Bsymbolic-functions -g -fwrapv -O2 ./hammy_cpu_kernel.o ./pcg_basic.o -L/usr/lib/x86_64-linux-gnu -o ./hammy_cpu_kernel.cpython-310-x86_64-linux-gnu.so\n"
          ]
        },
        {
          "output_type": "stream",
          "name": "stdout",
          "text": [
            "CFFI: making 234375 loops\n"
          ]
        }
      ],
      "source": [
        "if MODE in (Mode.CFFI, Mode.COMBO):\n",
        "  loops = int(N.CFFI_BOOST * N.IPM / 32 / N.T * (MINUTES\n",
        "                                                  if MODE == Mode.CFFI else 1))\n",
        "  CPU_LOOPS = loops\n",
        "  with open(\"hammy_cpu.py\", \"w\") as w:\n",
        "    w.write(f'''\\\n",
        "from cffi import FFI\n",
        "from pathlib import Path\n",
        "import numpy as np\n",
        "import os\n",
        "from glob import glob\n",
        "def run(_):\n",
        "  ffi = FFI()\n",
        "  lib = ffi.dlopen(str(list(Path.cwd().glob(\"hammy_cpu_kernel.*.so\"))[0]))\n",
        "  ffi.cdef(\"\"\"void run(long long seed, unsigned long long* out);\"\"\")\n",
        "  ii64 = np.iinfo(np.int64)\n",
        "  rng = np.random.default_rng()\n",
        "  seed = rng.integers(0, ii64.max, dtype=np.int64)\n",
        "  hist = np.zeros(({N.TARGETS_LEN}, {N.CHECKPOINTS_LEN}, {N.BINS_LEN}), dtype=np.int64)\n",
        "  dd = ffi.cast(f\"unsigned long long*\", ffi.from_buffer(hist))\n",
        "  lib.run(seed, dd)\n",
        "  ffi.dlclose(lib)\n",
        "  return hist\n",
        "''')\n",
        "  ffi = FFI()\n",
        "  source = f\"\"\"\n",
        "#include \"pcg_basic.h\"\n",
        "{ getDefines(loops) } \"\"\" + r\"\"\"\n",
        "#define __EXTERN\n",
        "#define __global__\n",
        "#define __shared__\n",
        "#define _32 [32]\n",
        "#define _ [threadIdx.x]\n",
        "typedef pcg32_random_t curandStateXORWOW_t;\n",
        "void curand_init(unsigned long long seed, unsigned long long sequence, unsigned long long offset, curandStateXORWOW_t *state) {\n",
        "  pcg32_srandom_r(state, seed + sequence, offset);\n",
        "}\n",
        "unsigned int curand(curandStateXORWOW_t *state) {\n",
        "  return pcg32_random_r(state);\n",
        "}\n",
        "struct ThreadCounter {\n",
        "  int x;\n",
        "  int y;\n",
        "  int z;\n",
        "};\n",
        "void atomicAdd(unsigned long long int* address, unsigned long long int val) {\n",
        "    *address += val;\n",
        "}\n",
        "#define __WARP_INIT for(struct ThreadCounter threadIdx = {0, 0, 0}; threadIdx.x < 32; ++threadIdx.x) { struct ThreadCounter blockIdx = {0, 0, 0}; struct ThreadCounter blockDim = {0, 0, 0};\n",
        "#define __SYNCTHREADS } __WARP_INIT\n",
        "#define __WARP_END }\n",
        "\"\"\" + CODE\n",
        "  ffi.set_source(\"hammy_cpu_kernel\", source, sources=[\"pcg_basic.c\"])\n",
        "  ffi.cdef(f\"\"\"void run(long long seed, unsigned long long* out);\"\"\")\n",
        "  ffi.compile(verbose=True)\n",
        "  pool = Pool(N.CORES)\n",
        "  if ipython_info():\n",
        "    %aimport hammy_cpu\n",
        "    pass\n",
        "  else:\n",
        "    import hammy_cpu\n",
        "  if MODE == Mode.CFFI:\n",
        "    print(f\"CFFI: making {loops} loops\")\n",
        "    workers_results = pool.map(hammy_cpu.run, range(N.CORES))\n",
        "    RESULTS.last[mode_idx()] += np.sum(np.stack(workers_results, axis=0), axis=0)"
      ]
    },
    {
      "cell_type": "code",
      "source": [
        "%%bash\n",
        "#x86_64-linux-gnu-gcc -Wno-unused-result -Wsign-compare -DNDEBUG -g -fwrapv -O2 -Wall -g -fstack-protector-strong -Wformat -Werror=format-security -g -fwrapv -O2 -fPIC -I/usr/include/python3.10 -c hammy_cpu_kernel.c -o ./hammy_cpu_kernel.o\n",
        "\n"
      ],
      "metadata": {
        "id": "AUCcdViL5UR0"
      },
      "execution_count": null,
      "outputs": []
    },
    {
      "cell_type": "code",
      "execution_count": null,
      "metadata": {
        "id": "kmctptQNDCBG"
      },
      "outputs": [],
      "source": [
        "if MODE in (Mode.CUDA, Mode.COMBO):\n",
        "  blocks = 10000\n",
        "  loops = int(MINUTES * N.CUDA_BOOST * N.IPM / N.T / N.L / blocks)\n",
        "  kernel = cp.RawKernel(f\"\"\"\n",
        "#include <curand_kernel.h>\n",
        "{ getDefines(loops) }\n",
        "#define __EXTERN extern \"C\"\n",
        "#define _32\n",
        "#define _\n",
        "#define __WARP_INIT\n",
        "#define __SYNCTHREADS __syncthreads();\n",
        "#define __WARP_END\n",
        "{ CODE }\n",
        "\"\"\", 'run')\n",
        "  with open(\"hammy_cuda.py\", \"w\") as w:\n",
        "    w.write(f'''\\\n",
        "#from cffi import FFI\n",
        "#from pathlib import Path\n",
        "import numpy as np\n",
        "#import os\n",
        "#from glob import glob\n",
        "def run(kernel, blocks):\n",
        "  ii64 = np.iinfo(np.int64)\n",
        "  rng = np.random.default_rng()\n",
        "  seed = rng.integers(0, ii64.max, dtype=np.int64)\n",
        "  hist = np.zeros(({N.MAX_M}, {N.T / 2 + 1}, {N.CHECKPOINTS_LEN}), dtype=np.int64)\n",
        "  kernel((blocks,), (32,), (seed, hist))\n",
        "  return hist.get()\n",
        "''')\n",
        "  ii64 = np.iinfo(np.int64)\n",
        "  seed = np.random.randint(ii64.min, ii64.max, dtype=np.int64)\n",
        "  hist = cp.zeros((N.MAX_M, N.T // 2 + 1, N.CHECKPOINTS_LEN), dtype=cp.int64)\n",
        "  print(f\"CUDA: making {blocks} blocks, {loops} loops each\")\n",
        "  kernel((blocks,), (32,), (seed, hist))\n",
        "  if MODE == Mode.CUDA:\n",
        "    RESULTS.last[mode_idx()] += hist.get()"
      ]
    },
    {
      "cell_type": "code",
      "source": [
        "if MODE == MODE.COMBO:\n",
        "  while not cp.cuda.get_current_stream().done:\n",
        "    print(f\"Waiting and making {CPU_LOOPS} CPU LOOPS\")\n",
        "    workers_results = pool.map(hammy_cpu.run, range(N.CORES))\n",
        "    RESULTS.last[mode_idx(Mode.CFFI)] += np.sum(np.stack(workers_results, axis=0), axis=0)\n",
        "  RESULTS.last[mode_idx(Mode.CUDA)] += hist.get()"
      ],
      "metadata": {
        "id": "pu_es_TQyGD7"
      },
      "execution_count": null,
      "outputs": []
    },
    {
      "cell_type": "code",
      "source": [
        "RESULTS.last[0] = np.sum(RESULTS.last[1:], axis=0)\n",
        "RESULTS.MI_cum = RESULTS.MI_last + OLD_RESULTS.MI_cum\n",
        "RESULTS.cum = RESULTS.last + OLD_RESULTS.cum"
      ],
      "metadata": {
        "id": "YzNB2pvAP1CN"
      },
      "execution_count": null,
      "outputs": []
    },
    {
      "cell_type": "code",
      "source": [
        "import scs\n",
        "from scipy import sparse, optimize\n",
        "def get_walk_matrix(stay_probability):\n",
        "  # Just giving shorter names\n",
        "  M = N.BINS_LEN\n",
        "  e = stay_probability\n",
        "  ones = np.ones(N.BINS_LEN)\n",
        "  diagonals_data = np.array([(1 - e) / 2 * ones, (1 - e) / 2 * ones,\n",
        "                            e * ones, (1 - e) / 2 * ones, (1 - e) / 2 * ones])\n",
        "  diagonals_offsets = np.array([-M + 1, -1, 0, 1, M - 1])\n",
        "  step_matrix = sparse.dia_matrix((diagonals_data, diagonals_offsets), shape=(M, M)).tocsr()\n",
        "  return sparse.linalg.matrix_power(step_matrix, N.T)\n",
        "\n",
        "class SCS_CONSTANTS:\n",
        "  n = N.BINS_LEN\n",
        "  A = sparse.csc_matrix(np.vstack((np.ones((1, n)), -np.eye(n))))\n",
        "  b = np.zeros(n + 1)\n",
        "  b[0] = 1\n",
        "  cone = dict(z=1, l=n)\n",
        "\n",
        "def get_approximation(width_in_steps, data):\n",
        "  M = N.BINS_LEN\n",
        "  y = data / np.sum(y)\n",
        "  inv_y = data.astype(np.float64)\n",
        "  inv_y[inv_y == 0] = .5\n",
        "  inv_y = 1 / inv_y\n",
        "  W = sparse.dia_matrix(((1. / y).reshape(1, -1), np.array((0,))), shape=(M, M))\n",
        "  X = get_walk_matrix(1 - width_in_steps / N.T)\n",
        "  n = X.shape[1]\n",
        "  P = X.T @ W @ X\n",
        "  c = -(X.T @ W @ y + y.T @ W @ X) /2\n",
        "  data = dict(P=P, A=SCS_CONSTANTS.A, b=SCS_CONSTANTS.b, c=c)\n",
        "  solver = scs.SCS(data, SCS_CONSTANTS.cone, eps_abs=1e-9, eps_rel=1e-9, verbose=False)\n",
        "  return solver.solve()\n",
        "\n",
        "def get_approximation_error(width_in_steps, data):\n",
        "   approximation = get_approximation(width_in_steps, data)\n",
        "   return approximation['info']['pobj'] - np.linalg.norm(approximation['x'], 2)\n",
        "\n",
        "def get_trajectory_stats(data):\n",
        "  optimization_results = optimize.minimize_scalar(get_approximation_error, method='bounded', bounds=(10, N.T), args=(data,))\n",
        "  width_in_steps = optimization_results['x']\n",
        "  approximation_results = get_approximation(width_in_steps, data)\n",
        "  x = approximation_results['x']\n",
        "  x[np.where(np.abs(x) < 1e-4)] = 0\n",
        "  mmin = np.min(np.nonzero(x))\n",
        "  mmax = np.max(np.nonzero(x))\n",
        "  ssum = np.sum(x)\n",
        "  x = x / ssum\n",
        "  return TrajectoryStat(optimization_results['success'] \\\n",
        "                        and approximation_results['info']['status'] == 'solved' \\\n",
        "                        and mmax - mmin < 2 \\\n",
        "                        and np.abs(ssum - 1) < 1e-4,\n",
        "                        mmin * x[mmin] + mmax * x[mmax] if mmax - mmin == 1 else mmax,\n",
        "                        width_in_steps)\n",
        "\n",
        "  assert get_trajectory_stats()\n"
      ],
      "metadata": {
        "id": "ibf79pLCJMmV"
      },
      "execution_count": null,
      "outputs": []
    },
    {
      "cell_type": "code",
      "source": [
        "def plot(hist):\n",
        "  max_hist = min(np.max(np.nonzero(np.max(hist, axis=1))) + 1, N.MAX_M)\n",
        "  fig, axs = plt.subplots(max_hist, squeeze=False)\n",
        "  fig.set_figheight(8)\n",
        "  bins = np.arange(-int(N.T / 4), int(N.T / 4) + 1)\n",
        "  for i in range(max_hist):\n",
        "    axs[i, 0].set_title(f\"Mode {i + 1}\")\n",
        "    axs[i, 0].bar(bins, hist[i,:], align='center', width=.7)"
      ],
      "metadata": {
        "id": "WG7frb5gP2vJ"
      },
      "execution_count": null,
      "outputs": []
    },
    {
      "cell_type": "code",
      "source": [
        "#import scipy\n",
        "#TEST_STEPS = 120\n",
        "#test_hist = np.empty(N.BINS_LEN)\n",
        "#half_dist = scipy.stats.binom.pmf(np.arange(N.BINS_LEN // 2 + 1), TEST_STEPS, .5, N.BINS_LEN // 4 -TEST_STEPS // 2)\n",
        "#test_hist[0::2] = half_dist\n",
        "#test_hist[1::2] = half_dist[:-1] / 2\n",
        "#test_hist[1::2] += half_dist[1:] / 2\n",
        "\n",
        "#plt.bar(np.arange(N.BINS_LEN), get_approximation(226.311, test_hist)['x'])\n",
        "#plt.bar(np.arange(N.BINS_LEN), get_walk_matrix(1 - 135/N.T).toarray()[:,50])\n",
        "#plt.bar(np.arange(N.BINS_LEN), test_hist)\n",
        "#get_trajectory_stats(test_hist)\n",
        "#plt.bar(np.arange(190,210,1), np.array([get_approximation_error(x, test_hist) for x in np.arange(190,210,1)]))"
      ],
      "metadata": {
        "id": "3rOG-a-iHRtV"
      },
      "execution_count": null,
      "outputs": []
    },
    {
      "cell_type": "code",
      "source": [
        "for t in range(N.TARGETS_LEN):\n",
        "  for c in range(N.CHECKPOINTS_LEN):\n",
        "    print(t, c)\n",
        "    RESULTS.trajectory_is_valid[mode_idx(), t, c], \\\n",
        "    RESULTS.trajectory_position[mode_idx(), t, c], \\\n",
        "    RESULTS.trajectory_width_in_steps[mode_idx(), t, c] = get_trajectory_stats(RESULTS.last[mode_idx(), t, c, :])\n"
      ],
      "metadata": {
        "id": "hXwsgVMagXju",
        "colab": {
          "base_uri": "https://localhost:8080/"
        },
        "outputId": "3e7de842-c2c4-48fb-8852-69bed748e843"
      },
      "execution_count": null,
      "outputs": [
        {
          "output_type": "stream",
          "name": "stdout",
          "text": [
            "0 0\n",
            "0 1\n",
            "0 2\n",
            "0 3\n",
            "0 4\n",
            "0 5\n",
            "0 6\n",
            "0 7\n",
            "0 8\n",
            "0 9\n",
            "1 0\n",
            "1 1\n",
            "1 2\n",
            "1 3\n",
            "1 4\n",
            "1 5\n",
            "1 6\n",
            "1 7\n",
            "1 8\n",
            "1 9\n",
            "2 0\n",
            "2 1\n",
            "2 2\n",
            "2 3\n",
            "2 4\n",
            "2 5\n",
            "2 6\n",
            "2 7\n",
            "2 8\n",
            "2 9\n",
            "3 0\n",
            "3 1\n",
            "3 2\n",
            "3 3\n",
            "3 4\n",
            "3 5\n",
            "3 6\n",
            "3 7\n",
            "3 8\n",
            "3 9\n",
            "4 0\n",
            "4 1\n",
            "4 2\n",
            "4 3\n",
            "4 4\n",
            "4 5\n",
            "4 6\n",
            "4 7\n",
            "4 8\n",
            "4 9\n"
          ]
        }
      ]
    },
    {
      "cell_type": "code",
      "source": [
        "RESULTS.trajectory_position[1]"
      ],
      "metadata": {
        "colab": {
          "base_uri": "https://localhost:8080/"
        },
        "id": "ijKcp0kyzfgF",
        "outputId": "c41c9030-df8b-497b-a279-39c1dca1eda5"
      },
      "execution_count": null,
      "outputs": [
        {
          "output_type": "execute_result",
          "data": {
            "text/plain": [
              "array([[ 50.      ,  50.      ,  50.      ,  50.      ,  50.      ,\n",
              "         50.      ,  50.      ,  50.      ,  50.      , 100.      ],\n",
              "       [ 50.      ,  50.01894 ,  50.24998 ,  50.389313,  50.495228,\n",
              "         50.603992,  50.824265,  50.941483,  51.      ,  51.      ],\n",
              "       [ 50.02016 ,  50.396793,  50.613396,  50.993675,  51.      ,\n",
              "         51.      ,  51.39502 ,  51.62909 ,  52.      ,  52.      ],\n",
              "       [ 50.494335,  51.      ,  51.486336,  52.      ,  52.49875 ,\n",
              "         53.      ,  53.      ,  54.      ,  56.      ,  55.      ],\n",
              "       [ 51.      ,  52.      ,  53.      ,  53.99832 ,  54.92783 ,\n",
              "         55.      ,  56.      ,  58.      ,  59.      ,  60.      ]],\n",
              "      dtype=float32)"
            ]
          },
          "metadata": {},
          "execution_count": 35
        }
      ]
    },
    {
      "cell_type": "code",
      "source": [
        "plt.bar(np.arange(N.BINS_LEN), get_approximation(50, RESULTS.last[1, 0, 3, :])['x'])"
      ],
      "metadata": {
        "colab": {
          "base_uri": "https://localhost:8080/",
          "height": 447
        },
        "id": "rJH1fqkmPpA8",
        "outputId": "c03dc013-f735-4a97-f960-84975c8a3e87"
      },
      "execution_count": null,
      "outputs": [
        {
          "output_type": "execute_result",
          "data": {
            "text/plain": [
              "<BarContainer object of 101 artists>"
            ]
          },
          "metadata": {},
          "execution_count": 22
        },
        {
          "output_type": "display_data",
          "data": {
            "text/plain": [
              "<Figure size 640x480 with 1 Axes>"
            ],
            "image/png": "[encoded data removed]"
          },
          "metadata": {}
        }
      ]
    },
    {
      "cell_type": "code",
      "source": [
        "bits = io.BytesIO()\n",
        "bits.write(blosc.compress(pickle.dumps(RESULTS)))\n",
        "boto_filename = f\"{N.BOTO_FILE_PREFIX}{datetime.datetime.utcnow().strftime('%Y%m%d%H%M%S_1_1')}.pkl\"\n",
        "bits.seek(0)\n",
        "BOTO_CLIENT.upload_fileobj(bits, N.BOTO_BUCKET, boto_filename)"
      ],
      "metadata": {
        "id": "OZ4qdl-wlroQ"
      },
      "execution_count": null,
      "outputs": []
    },
    {
      "cell_type": "code",
      "source": [
        "del RESULTS, OLD_RESULTS, hist"
      ],
      "metadata": {
        "id": "OmDkve5j4Fcy"
      },
      "execution_count": null,
      "outputs": []
    },
    {
      "cell_type": "code",
      "source": [],
      "metadata": {
        "id": "dNWgNu8vryfN"
      },
      "execution_count": null,
      "outputs": []
    }
  ],
  "metadata": {
    "colab": {
      "provenance": []
    },
    "kernelspec": {
      "display_name": "Python 3",
      "name": "python3"
    },
    "language_info": {
      "name": "python"
    }
  },
  "nbformat": 4,
  "nbformat_minor": 0
}